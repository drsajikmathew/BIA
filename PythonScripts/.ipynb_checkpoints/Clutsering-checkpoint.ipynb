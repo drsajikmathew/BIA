{
 "cells": [
  {
   "cell_type": "code",
   "execution_count": null,
   "metadata": {},
   "outputs": [],
   "source": [
    "#Importing pandas, numpy and scikit libraries\n",
    "\n",
    "import matplotlib.pyplot as plt\n",
    "import pandas as pd\n",
    "import numpy as np\n",
    "from sklearn.cluster import KMeans\n",
    "#from sklearn.datasets import make_blobs\n",
    "from sklearn.preprocessing import StandardScaler"
   ]
  },
  {
   "cell_type": "code",
   "execution_count": null,
   "metadata": {},
   "outputs": [],
   "source": [
    "#Reading data, and pre-processing\n",
    "\n",
    "data=pd.read_csv(\"/Users/sajimathew/Documents/DoMS/Teaching/EMBA/DMBI/DMBI-2020/Data/Dominick.csv\")\n",
    "#check if there are empty cells\n",
    "Nandata=np.count_nonzero(pd.isnull(data))\n",
    "Nandata\n",
    "#standardizing the data using z scores\n",
    "scaler = StandardScaler()\n",
    "scaler.fit(data)\n",
    "#X: [n_samples, n_features]\n",
    "X=scaler.transform(data)\n",
    "#X.shape\n"
   ]
  },
  {
   "cell_type": "code",
   "execution_count": null,
   "metadata": {},
   "outputs": [],
   "source": [
    "distortions = []\n",
    "for i in range(1, 12):\n",
    "    km = KMeans(\n",
    "        n_clusters=i, init='random',\n",
    "        n_init=10, max_iter=300,\n",
    "        tol=1e-04, random_state=0\n",
    "    )\n",
    "    km.fit(X)\n",
    "    distortions.append(km.inertia_)\n",
    "#inertia_ (Sum of squared distances of samples to their closest cluster center.)\n",
    "plt.plot(range(1, 12), distortions, marker='o')\n",
    "plt.xlabel('Number of clusters')\n",
    "plt.ylabel('Distortion')\n",
    "plt.show()"
   ]
  },
  {
   "cell_type": "code",
   "execution_count": null,
   "metadata": {},
   "outputs": [],
   "source": [
    "km = KMeans(\n",
    "    n_clusters=3, init='random',\n",
    "    n_init=10, max_iter=300, \n",
    "    tol=1e-04, random_state=0\n",
    ")\n",
    "km.fit(X)"
   ]
  },
  {
   "cell_type": "code",
   "execution_count": null,
   "metadata": {},
   "outputs": [],
   "source": [
    "import yellowbrick\n",
    "from yellowbrick.cluster import InterclusterDistance\n",
    "visualizer = InterclusterDistance(km)\n",
    "visualizer.fit(X)        # Fit the data to the visualizer\n",
    "visualizer.show()        # Finalize and render the figure\n"
   ]
  },
  {
   "cell_type": "code",
   "execution_count": null,
   "metadata": {},
   "outputs": [],
   "source": [
    "#Visualization of cluster similarities and discriminitation\n",
    "\n",
    "centres=km.cluster_centers_\n",
    "cl1=centres[0,:]\n",
    "cl2=centres[1,:]\n",
    "cl3=centres[2,:]\n",
    "Xlab=['GROCERY','CUSTCOUNT','AGE9','NOCAR','HSIZE2','SINGLE','WRKWNCH','TELEPHN','NWHITE','SHPCONS','SHPHURR']\n",
    "width = 0.35 \n",
    "plt.figure(figsize=[12, 4.8])\n",
    "p1 = plt.bar(Xlab, cl1, width, color='r')\n",
    "p2=plt.bar(Xlab, cl2, width, color='b')\n",
    "p3=plt.bar(Xlab, cl3, width, color='g')\n"
   ]
  }
 ],
 "metadata": {
  "kernelspec": {
   "display_name": "Python 3",
   "language": "python",
   "name": "python3"
  },
  "language_info": {
   "codemirror_mode": {
    "name": "ipython",
    "version": 3
   },
   "file_extension": ".py",
   "mimetype": "text/x-python",
   "name": "python",
   "nbconvert_exporter": "python",
   "pygments_lexer": "ipython3",
   "version": "3.7.6"
  }
 },
 "nbformat": 4,
 "nbformat_minor": 4
}
