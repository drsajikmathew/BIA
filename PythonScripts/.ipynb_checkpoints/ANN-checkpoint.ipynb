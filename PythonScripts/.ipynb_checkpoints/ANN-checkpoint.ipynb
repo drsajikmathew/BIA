{
 "cells": [
  {
   "cell_type": "code",
   "execution_count": null,
   "metadata": {},
   "outputs": [],
   "source": [
    "#Importing pandas, numpy and scikit libraries\n",
    "\n",
    "import pandas as pd\n",
    "import numpy as np\n",
    "from sklearn.preprocessing import StandardScaler\n",
    "import sklearn.neural_network as nn\n",
    "import matplotlib.pyplot as plt"
   ]
  },
  {
   "cell_type": "code",
   "execution_count": null,
   "metadata": {},
   "outputs": [],
   "source": [
    "#Reading data and checking for Nan and order\n",
    "data=pd.read_csv(\"/Users/sajimathew/Documents/DoMS/Teaching/EMBA/DMBI/DMBI-2020/Data/infy.csv\")\n",
    "price=data['Close']\n",
    "#price.loc[4073]\n",
    "price.describe()\n",
    "Nandata=np.count_nonzero(pd.isnull(price))\n",
    "Nandata\n",
    "#plt.plot(price)\n",
    "#reversing the data series\n",
    "price=np.flipud(price)\n",
    "#plt.plot(price)\n"
   ]
  },
  {
   "cell_type": "code",
   "execution_count": null,
   "metadata": {},
   "outputs": [],
   "source": [
    "#Defining a function SMS to compute moving averages of a given series and period; calculating MAs for 5,10 and 50 trading days\n",
    "\n",
    "def SMA(series,period):   \n",
    "    i = 0\n",
    "    MA = []\n",
    "    while i < len(series) - period + 1:\n",
    "        this_window = series[i : i + period]\n",
    "        window_average = sum(this_window) / period\n",
    "        MA.append(window_average)\n",
    "        i += 1\n",
    "    return MA;\n",
    "\n",
    "MA5=SMA(price,5)\n",
    "MA10=SMA(price,10)\n",
    "MA50=SMA(price,50)\n"
   ]
  },
  {
   "cell_type": "code",
   "execution_count": null,
   "metadata": {},
   "outputs": [],
   "source": [
    "#Computing momentum for 5 days\n",
    "j = 4\n",
    "Mo = []\n",
    "while j < len(price) - 1:\n",
    "    window_momentum = (price[j]- price[j-4])/ 5\n",
    "    Mo.append(window_momentum)\n",
    "    j += 1\n"
   ]
  },
  {
   "cell_type": "code",
   "execution_count": null,
   "metadata": {},
   "outputs": [],
   "source": [
    "#Computing Relatibe Strength Indicator (RSI) for 9 days\n",
    "#Set minimum value of changes set to one to avoid division by zero\n",
    "k = 0\n",
    "RSI = []\n",
    "while k < len(price) - 10:\n",
    "    this_window = price[k:k+9]\n",
    "    l=0\n",
    "    ch_pos=0\n",
    "    ch_neg=0\n",
    "    for l in range(8):\n",
    "        window_change = price[k+l+1]-price[k+l]\n",
    "        if window_change>1:\n",
    "            ch_pos+=1\n",
    "        else:\n",
    "            ch_neg+=1\n",
    "    RSI_window=100-100/(1+ch_pos/ch_neg)\n",
    "    RSI.append(RSI_window)\n",
    "    k += 1\n"
   ]
  },
  {
   "cell_type": "code",
   "execution_count": null,
   "metadata": {},
   "outputs": [],
   "source": [
    "#Data Synchronisation (all data aligned with respect to end point)\n",
    "\n",
    "mprice=price[50:len(price)-2]\n",
    "mlag_1=price[49:len(price)-3]\n",
    "mlag_2=price[48: len(price)-4]\n",
    "mMA5=MA5[50-(len(price)-len(MA5)):len(MA5)-2]\n",
    "mMA10=MA5[50-(len(price)-len(MA10)):len(MA10)-2]\n",
    "mMA50=MA5[50-(len(price)-len(MA50)):len(MA50)-2]\n",
    "mMo=Mo[50-(len(price)-len(Mo)):len(Mo)-2]\n",
    "mRSI=RSI[50-(len(price)-len(RSI)):len(RSI)-2]\n",
    "mTg=price[51:len(price)-1].T\n",
    "mdata=np.array([mprice,mlag_1,mlag_2,mMA5,mMA10,mMA50,mMo,mRSI])\n"
   ]
  },
  {
   "cell_type": "code",
   "execution_count": null,
   "metadata": {},
   "outputs": [],
   "source": [
    "#Data tranformation\n",
    "\n",
    "from sklearn.model_selection import train_test_split\n",
    "scaler = StandardScaler()\n",
    "scaler.fit(mdata)\n",
    "X=scaler.transform(mdata)\n",
    "m=mdata.T\n",
    "X_train, X_test, y_train, y_test = train_test_split(m,mTg,test_size=0.1,shuffle=False)\n",
    "#shuffle=true will shuffle the data\n",
    "plt.plot(y_test)\n"
   ]
  },
  {
   "cell_type": "code",
   "execution_count": null,
   "metadata": {},
   "outputs": [],
   "source": [
    "#Modeling and testing: https://scikit-learn.org/stable/modules/generated/sklearn.neural_network.MLPRegressor.html#sklearn.neural_network.MLPRegressor\n",
    "# https://scikit-learn.org/stable/modules/neural_networks_supervised.html\n",
    "\n",
    "nn8431=nn.MLPRegressor(hidden_layer_sizes=(4,3), \n",
    "                    activation='relu', solver='adam', alpha=0.0001, \n",
    "                    batch_size='auto', \n",
    "                    learning_rate='constant', learning_rate_init=0.01, \n",
    "                    power_t=0.5, \n",
    "                    max_iter=5000, shuffle=True, random_state=None, \n",
    "                    tol=0.0001, verbose=False, \n",
    "                    warm_start=False, momentum=0.8, \n",
    "                    nesterovs_momentum=True, \n",
    "                    early_stopping=False, \n",
    "                    validation_fraction=0.1, beta_1=0.9, beta_2=0.999,\n",
    "                    epsilon=1e-08, \n",
    "                    n_iter_no_change=10, max_fun=15000)\n",
    "nn8431.fit(X_train, y_train)\n",
    "y_pred=nn8431.predict(X_test)\n",
    "loss8431=nn8431.loss_\n",
    "loss8431\n"
   ]
  },
  {
   "cell_type": "code",
   "execution_count": null,
   "metadata": {},
   "outputs": [],
   "source": [
    "plt.figure(figsize=[18, 8])\n",
    "plt.plot(y_test,color='b')\n",
    "plt.plot(y_pred,color='r')"
   ]
  }
 ],
 "metadata": {
  "kernelspec": {
   "display_name": "Python 3",
   "language": "python",
   "name": "python3"
  },
  "language_info": {
   "codemirror_mode": {
    "name": "ipython",
    "version": 3
   },
   "file_extension": ".py",
   "mimetype": "text/x-python",
   "name": "python",
   "nbconvert_exporter": "python",
   "pygments_lexer": "ipython3",
   "version": "3.7.6"
  }
 },
 "nbformat": 4,
 "nbformat_minor": 4
}
