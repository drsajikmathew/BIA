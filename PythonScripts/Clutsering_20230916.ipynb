{
 "cells": [
  {
   "attachments": {},
   "cell_type": "markdown",
   "metadata": {},
   "source": [
    "# Cluster analysis\n",
    "\n",
    "The purpose of this chapter is to use the python libraries given by scikit learn to solve the case of “Dominick’s Finer Foods” store segmentation problem.\n",
    "\n",
    "Data: Dominick.csv\n",
    "\n",
    "Variables\n",
    "\n",
    "GROCERY\tTotal grocery sales in USD\n",
    "CUSTCOUNT\tTotal customers visiting the store\n",
    "AGE9\tPopulation under age 9\n",
    "NOCAR\t% with no vehicles\n",
    "HSIZE2\t% of households with 2 persons\n",
    "DENSITY\tTrading area in sq miles per capita\n",
    "SINGLE\t% of singles\n",
    "WRKWNCH\t% of working women with no children\n",
    "TELPHN\t% of households with telephones\n",
    "NWHITE\t% of population that is non-white\n",
    "SHOPCONS\t% of constrained shoppers\n",
    "SHOPHURR\t% of hurried shoppers\n",
    "\n",
    "Class Work\n",
    "Develop a cluster model appropriate for the given objectives of Dominick’s using Python libraries\n",
    "Choose the appropriate number of clusters (segments) \n",
    "Profile each cluster\n",
    "Suggest promotional tactics for each segment\n"
   ]
  },
  {
   "cell_type": "code",
   "execution_count": null,
   "metadata": {},
   "outputs": [],
   "source": [
    "#Importing pandas, numpy and scikit libraries\n",
    "import pandas as pd\n",
    "import numpy as np\n",
    "from sklearn.cluster import KMeans\n",
    "import matplotlib.pyplot as plt\n",
    "from sklearn.preprocessing import StandardScaler\n",
    "#import yellowbrick"
   ]
  },
  {
   "cell_type": "code",
   "execution_count": null,
   "metadata": {},
   "outputs": [],
   "source": [
    "#Reading data, and pre-processing\n",
    "\n",
    "data=pd.read_csv(\"/Users/sajimathew/Documents/DoMS/Teaching/EMBA/DMBI/DMBI-2020/Data/Dominick.csv\")\n",
    "#check if there are empty cells\n",
    "Nandata=np.count_nonzero(pd.isnull(data))\n",
    "Nandata\n",
    "#standardizing the data using z scores\n",
    "scaler = StandardScaler()\n",
    "scaler.fit(data)\n",
    "#X: [n_samples, n_features]\n",
    "X=scaler.transform(data)\n",
    "type(X)\n",
    "np.shape(X) # dimension of dataframe\n",
    "data.describe()"
   ]
  },
  {
   "cell_type": "code",
   "execution_count": null,
   "metadata": {},
   "outputs": [],
   "source": [
    "#DETERMINATION OF K BY ELBOW RULE\n",
    "distortions = [] #distortion is total within cluster error\n",
    "for i in range(1, 12):\n",
    "    km = KMeans(\n",
    "        n_clusters=i, init='random',\n",
    "        n_init=10, max_iter=300,\n",
    "        tol=1e-04, random_state=0\n",
    "    )\n",
    "    km.fit(X)\n",
    "    distortions.append(km.inertia_)\n",
    "#inertia_ (Sum of squared distances of samples to their closest cluster center.)\n",
    "plt.plot(range(1, 12), distortions, marker='o')\n",
    "plt.xlabel('Number of clusters')\n",
    "plt.ylabel('Distortion')\n",
    "plt.show()"
   ]
  },
  {
   "cell_type": "code",
   "execution_count": null,
   "metadata": {},
   "outputs": [],
   "source": [
    "#BUILDING CLUSTER \n",
    "km = KMeans(\n",
    "    n_clusters=3, init='random',\n",
    "    n_init=10, max_iter=300, \n",
    "    tol=1e-04)\n",
    "km.fit(X)"
   ]
  },
  {
   "cell_type": "code",
   "execution_count": null,
   "metadata": {},
   "outputs": [],
   "source": [
    "#VISSUALIZING CLUSTER\n",
    "from yellowbrick.cluster import InterclusterDistance\n",
    "visualizer = InterclusterDistance(km)\n",
    "visualizer.fit(X)        # Fit the data to the visualizer\n",
    "visualizer.show()        # Finalize and render the figure"
   ]
  },
  {
   "cell_type": "code",
   "execution_count": null,
   "metadata": {},
   "outputs": [],
   "source": [
    "#CLUSTER PRIFILING\n",
    "\n",
    "centres=km.cluster_centers_\n",
    "cl1=centres[0,:]\n",
    "cl2=centres[1,:]\n",
    "cl3=centres[2,:]\n",
    "Xlab=['GROCERY','CUSTCOUNT','AGE9','NOCAR','HSIZE2','SINGLE','WRKWNCH','TELEPHN','NWHITE','SHPCONS','SHPHURR']\n",
    "width = 0.35 \n",
    "plt.figure(figsize=[12, 4.8])\n",
    "p1 = plt.bar(Xlab, cl1, width, color='r')\n",
    "p2=plt.bar(Xlab, cl2, width, color='b')\n",
    "p3=plt.bar(Xlab, cl3, width, color='g')\n"
   ]
  },
  {
   "cell_type": "code",
   "execution_count": null,
   "metadata": {},
   "outputs": [],
   "source": []
  }
 ],
 "metadata": {
  "kernelspec": {
   "display_name": "Python 3",
   "language": "python",
   "name": "python3"
  },
  "language_info": {
   "codemirror_mode": {
    "name": "ipython",
    "version": 3
   },
   "file_extension": ".py",
   "mimetype": "text/x-python",
   "name": "python",
   "nbconvert_exporter": "python",
   "pygments_lexer": "ipython3",
   "version": "3.7.6"
  }
 },
 "nbformat": 4,
 "nbformat_minor": 4
}
